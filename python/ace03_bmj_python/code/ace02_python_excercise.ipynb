{
 "cells": [
  {
   "cell_type": "markdown",
   "metadata": {},
   "source": [
    "\n"
   ]
  },
  {
   "cell_type": "markdown",
   "metadata": {},
   "source": [
    "## Excercises\n",
    "1.  Calculate GC content of the given DNA sequence\n",
    "2.  Write program that will print the complement of a DNA sequence\n",
    "3.  Write program that will calculate the size of the two fragments produced when\n",
    "    digested by EcoRI (G\\*AATTC)"
   ]
  },
  {
   "cell_type": "code",
   "execution_count": 1,
   "metadata": {
    "collapsed": true
   },
   "outputs": [],
   "source": [
    "# excercise 1\n",
    "# Calculate GC content of the given DNA sequence\n",
    "\n",
    "dna_seq = \"TAAACTTTAAAGTTCAAATAAGACATTCACCGCACTATCAGCGAATTGCCACCCCGGTTTGATCCGTTTTAGAACGTGGCAAGGTGAATTCAAGAATCATTCCTTCACCCACAAAGGAGACTTGTTCCCATCTCAGCGAAACCAATTCCGAGCGACGAAACGCCCCAAAAAATCCCACTAACAACAGCGCTCGATCTCGTGTGTTGCAAGGAAGCATAGAAT\"\n",
    "# how many C's and G's\n",
    "\n",
    "# or\n",
    "\n",
    "\n",
    "# length of dna sequence\n",
    "\n",
    "\n",
    "# calculate GC content\n",
    "\n",
    "\n",
    "# could do the following\n",
    "\n",
    "\n",
    "# print results\n"
   ]
  },
  {
   "cell_type": "code",
   "execution_count": 2,
   "metadata": {
    "collapsed": true
   },
   "outputs": [],
   "source": [
    "# excercise 2\n",
    "# print the reverse and complement of a DNA sequence\n",
    "# make a temp seq for ease\n",
    "dna_seq2 = \"ATGC\"\n",
    "\n",
    "# attempt 1\n",
    "\n",
    "\n",
    "# attempt 2 - remember that string manipulation is case sensitive\n",
    "\n",
    "\n",
    "# attempt 3\n",
    "\n",
    "\n",
    "# reverse the sequence\n",
    "# https://stackoverflow.com/questions/509211/understanding-pythons-slice-notation\n",
    "\n",
    "\n",
    "# empty list to hold complement bases\n",
    "\n",
    "\n",
    "# loop through reverse string and add its complement to a list\n",
    "\n",
    "\n",
    "# join list of complements into new string\n",
    "\n",
    "\n",
    "# *best* approach\n",
    "# make a reusable function\n",
    "\n"
   ]
  },
  {
   "cell_type": "code",
   "execution_count": 3,
   "metadata": {
    "collapsed": true
   },
   "outputs": [],
   "source": [
    "# excercise 3\n",
    "# calculate the size of the two fragments produced when digested by EcoRI (G*AATTC)\n",
    "# make a temp sequence for ease\n",
    "dna_seq3 = \"TTGATCCGTTTTAGAACGTGGCAAGGTGAATTCAAGAATCATTCCTATGAATTCATTATCAGCGAATTGCCACC\"\n",
    "ecor1 = \"GAATTC\"\n",
    "\n",
    "# length of fragments\n",
    "\n"
   ]
  }
 ],
 "metadata": {
  "kernelspec": {
   "display_name": "Python 3",
   "language": "python",
   "name": "python3"
  },
  "language_info": {
   "codemirror_mode": {
    "name": "ipython",
    "version": 3
   },
   "file_extension": ".py",
   "mimetype": "text/x-python",
   "name": "python",
   "nbconvert_exporter": "python",
   "pygments_lexer": "ipython3",
   "version": "3.6.2"
  }
 },
 "nbformat": 4,
 "nbformat_minor": 2
}
