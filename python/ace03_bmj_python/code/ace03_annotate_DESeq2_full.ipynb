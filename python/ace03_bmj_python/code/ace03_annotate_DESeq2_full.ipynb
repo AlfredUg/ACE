{
 "cells": [
  {
   "cell_type": "code",
   "execution_count": 3,
   "metadata": {},
   "outputs": [],
   "source": [
    "# import modules\n",
    "import os\n",
    "from Bio import SeqIO\n",
    "from Bio import Entrez\n",
    "#Entrez.email = \"brendan.jeffrey@nih.org\"  # Always tell NCBI who you are\n",
    "#filename = \"b_burgdorferi_B31_genome.gbk\"\n",
    "#if not os.path.isfile(filename):\n",
    "#    # Downloading...\n",
    "#    net_handle = Entrez.efetch(db=\"nucleotide\", id=\"AE000783.1\", rettype=\"gb\", retmode=\"text\")\n",
    "#    out_handle = open(filename, \"w\")\n",
    "#    out_handle.write(net_handle.read())\n",
    "#    out_handle.close()\n",
    "#    net_handle.close()\n",
    "#    print(\"Genbank Saved\")"
   ]
  },
  {
   "cell_type": "code",
   "execution_count": 49,
   "metadata": {},
   "outputs": [],
   "source": [
    "# opening files\n",
    "in_genbank = \"./b_burgdorferi_B31_genome.gbk\"\n",
    "in_deseq_res = \"../data/sb01_ph68C_ph76C_diffs.txt\"\n",
    "out_anno_res = open(\"../data/sb01_ph68C_ph76C_diffs_anno.txt\", 'w')"
   ]
  },
  {
   "cell_type": "code",
   "execution_count": 50,
   "metadata": {},
   "outputs": [
    {
     "data": {
      "text/plain": [
       "70"
      ]
     },
     "execution_count": 50,
     "metadata": {},
     "output_type": "execute_result"
    }
   ],
   "source": [
    "# write header for outfile\n",
    "out_anno_res.write(\"locus_tag\\tgene\\tproduct\\tbaseMean\\tlog2FoldChange\\tlfcSE\\tstat\\tpvalue\\tpadj\\n\")"
   ]
  },
  {
   "cell_type": "code",
   "execution_count": 51,
   "metadata": {},
   "outputs": [
    {
     "name": "stdout",
     "output_type": "stream",
     "text": [
      "honda\n",
      "toyota\n",
      "ford\n",
      "chevy\n"
     ]
    }
   ],
   "source": [
    "cars = [[\"honda\", \"toyota\"], [\"ford\" ,\"chevy\"]]\n",
    "\n",
    "for country in cars:\n",
    "    for make in country:\n",
    "        print(make)"
   ]
  },
  {
   "cell_type": "code",
   "execution_count": 52,
   "metadata": {},
   "outputs": [],
   "source": [
    "# extract gene names and gene products, populate dicts\n",
    "gene_dict = {}\n",
    "product_dict = {}\n",
    "\n",
    "# parse genbank file, populate dicts with gene names and products\n",
    "with open(in_genbank):\n",
    "    full_record = SeqIO.parse(in_genbank, \"genbank\")\n",
    "    for record in full_record:\n",
    "        # investigate record object, tab autocompletion\n",
    "        #print(record)\n",
    "        #print(record.description)\n",
    "        \n",
    "        # loop though each feature  of each record\n",
    "        for feature in record.features:\n",
    "            # investigate feature object\n",
    "            #print(feature)\n",
    "            \n",
    "            # only look at coding sequences\n",
    "            if \"CDS\" in feature.type:\n",
    "                # extract locus_tags , products\n",
    "                locus_tag = feature.qualifiers.get('locus_tag')[0]\n",
    "                product = feature.qualifiers.get('product')[0]\n",
    "            \n",
    "                \n",
    "                # populate dictionaries\n",
    "                if feature.qualifiers.get('gene'):\n",
    "                    gene = feature.qualifiers.get('gene')[0]\n",
    "                else:\n",
    "                    gene = \"NA\"\n",
    "                product_dict[locus_tag] = product\n",
    "                gene_dict[locus_tag] = gene"
   ]
  },
  {
   "cell_type": "code",
   "execution_count": 53,
   "metadata": {},
   "outputs": [],
   "source": [
    "#print(product_dict)"
   ]
  },
  {
   "cell_type": "code",
   "execution_count": 54,
   "metadata": {},
   "outputs": [],
   "source": [
    "# add gene name and gene product to results\n",
    "with open(in_deseq_res) as f:\n",
    "    # skip the header\n",
    "    next(f)\n",
    "    for line in f:\n",
    "        line = line.rstrip(\"\\n\")\n",
    "        locus_tag, baseMean, log2FoldChange, lfcSE, stat, pvalue, padj = line.split(\"\\t\")\n",
    "        #print(locus_tag)\n",
    "        if locus_tag in product_dict.keys():\n",
    "            out_anno_res.write(\"{0}\\t{1}\\t{2}\\t{3}\\t{4}\\t{5}\\t{6}\\t{7}\\t{8}\\n\".format(locus_tag, gene_dict[locus_tag], product_dict[locus_tag], baseMean, log2FoldChange, lfcSE, stat, pvalue, padj))\n",
    "        else:\n",
    "            out_anno_res.write(\"{0}\\tNA\\tNA\\t{1}\\t{2}\\t{3}\\t{4}\\t{5}\\t{6}\\n\".format(locus_tag, baseMean, log2FoldChange, lfcSE, stat, pvalue, padj))\n",
    "\n",
    "out_anno_res.close()"
   ]
  },
  {
   "cell_type": "code",
   "execution_count": null,
   "metadata": {},
   "outputs": [],
   "source": []
  }
 ],
 "metadata": {
  "kernelspec": {
   "display_name": "Python 3",
   "language": "python",
   "name": "python3"
  },
  "language_info": {
   "codemirror_mode": {
    "name": "ipython",
    "version": 3
   },
   "file_extension": ".py",
   "mimetype": "text/x-python",
   "name": "python",
   "nbconvert_exporter": "python",
   "pygments_lexer": "ipython3",
   "version": "3.6.6"
  }
 },
 "nbformat": 4,
 "nbformat_minor": 2
}
