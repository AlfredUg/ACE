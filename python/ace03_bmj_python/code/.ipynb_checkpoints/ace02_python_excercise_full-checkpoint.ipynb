{
 "cells": [
  {
   "cell_type": "markdown",
   "metadata": {},
   "source": [
    "\n"
   ]
  },
  {
   "cell_type": "markdown",
   "metadata": {},
   "source": [
    "## Excercises\n",
    "1.  Calculate GC content of the given DNA sequence\n",
    "2.  Write program that will print the complement of a DNA sequence\n",
    "3.  Write program that will calculate the size of the two fragments produced when\n",
    "    digested by EcoRI (G\\*AATTC)"
   ]
  },
  {
   "cell_type": "code",
   "execution_count": 1,
   "metadata": {},
   "outputs": [
    {
     "name": "stdout",
     "output_type": "stream",
     "text": [
      "GC content is: 45.05\n"
     ]
    }
   ],
   "source": [
    "# excercise 1\n",
    "# Calculate GC content of the given DNA sequence\n",
    "\n",
    "dna_seq = \"TAAACTTTAAAGTTCAAATAAGACATTCACCGCACTATCAGCGAATTGCCACCCCGGTTTGATCCGTTTTAGAACGTGGCAAGGTGAATTCAAGAATCATTCCTTCACCCACAAAGGAGACTTGTTCCCATCTCAGCGAAACCAATTCCGAGCGACGAAACGCCCCAAAAAATCCCACTAACAACAGCGCTCGATCTCGTGTGTTGCAAGGAAGCATAGAAT\"\n",
    "# how many C's and G's\n",
    "c_count = dna_seq.count(\"C\")\n",
    "g_count = dna_seq.count(\"G\")\n",
    "gc_count = c_count + g_count\n",
    "\n",
    "# or\n",
    "gc_count = dna_seq.count(\"C\") + dna_seq.count(\"G\")\n",
    "#print(gc_count)\n",
    "\n",
    "# length of dna sequence\n",
    "dna_length = len(dna_seq)\n",
    "#print(dna_length)\n",
    "\n",
    "# calculate GC content\n",
    "gc_content = gc_count / dna_length * 100\n",
    "\n",
    "# could do the following\n",
    "#gc_content = (dna_seq.count(\"C\") + dna_seq.count(\"G\")) / len(dna_seq) * 100\n",
    "\n",
    "# print results\n",
    "print(\"GC content is: {:.2f}\".format(gc_content))"
   ]
  },
  {
   "cell_type": "code",
   "execution_count": 3,
   "metadata": {},
   "outputs": [],
   "source": [
    "dna_seq.replace?\n"
   ]
  },
  {
   "cell_type": "code",
   "execution_count": 7,
   "metadata": {},
   "outputs": [
    {
     "name": "stdout",
     "output_type": "stream",
     "text": [
      "ATGC\n",
      "GCAT\n",
      "the reverse complement of ATGC is GCAT\n"
     ]
    }
   ],
   "source": [
    "# excercise 2\n",
    "# print the reverse and complement of a DNA sequence\n",
    "# make a temp seq for ease\n",
    "dna_seq2 = \"ATGC\"\n",
    "print(dna_seq2)\n",
    "\n",
    "# attempt 1\n",
    "replace1 = dna_seq2.replace(\"A\", \"T\")\n",
    "replace2 = replace1.replace(\"T\", \"A\")\n",
    "replace3 = replace2.replace(\"G\", \"C\")\n",
    "final_replace = replace3.replace(\"C\", \"G\")\n",
    "#print(final_replace)\n",
    "\n",
    "# attempt2 - remember that string manipulation is case sensitive\n",
    "replace1 = dna_seq2.replace(\"A\", \"t\")\n",
    "replace2 = replace1.replace(\"T\", \"a\")\n",
    "replace3 = replace2.replace(\"G\", \"c\")\n",
    "replace4 = replace3.replace(\"C\", \"g\")\n",
    "complement = replace4.upper()\n",
    "\n",
    "\n",
    "# attempt 3\n",
    "# dictionary holding each bases complement\n",
    "complement_dict = {\"A\":\"T\", \"T\":\"A\", \"G\":\"C\", \"C\":\"G\"}\n",
    "\n",
    "# reverse the sequence\n",
    "# https://stackoverflow.com/questions/509211/understanding-pythons-slice-notation\n",
    "reverse = dna_seq2[::-1]\n",
    "\n",
    "# empty list to hold complement bases\n",
    "complement_bases = []\n",
    "\n",
    "# loop through reverse string and add its complement to a list\n",
    "for base in reverse:\n",
    "    complement_bases.append(complement_dict[base])\n",
    "    \n",
    "# join list of complements into new string\n",
    "rc_dna = \"\".join(complement_bases)\n",
    "\n",
    "print(rc_dna)\n",
    "\n",
    "\n",
    "# *best* approach\n",
    "# make a reusable function\n",
    "def reverse_complement(dna):\n",
    "    complement_dict = {\"A\":\"T\", \"T\":\"A\", \"G\":\"C\", \"C\":\"G\"}\n",
    "#     reverse = dna[::-1]\n",
    "#     complement_bases = []\n",
    "#     for base in reverse:\n",
    "#         complement_bases.append(complement_dict[base])\n",
    "#     return \"\".join(complement_bases)\n",
    "\n",
    "    # list comprehension\n",
    "    return \"\".join([complement_dict[base] for base in dna[::-1]])\n",
    "\n",
    "print(\"the reverse complement of {} is {}\".format(dna_seq2, reverse_complement(dna_seq2)))\n"
   ]
  },
  {
   "cell_type": "code",
   "execution_count": 16,
   "metadata": {},
   "outputs": [
    {
     "name": "stdout",
     "output_type": "stream",
     "text": [
      "fragment 1 length: 28\n",
      "fragment 2 length: 46\n",
      "fragment1: TTGATCCGTTTTAGAACGTGGCAAGGTG\n",
      "fragment2: AATTCAAGAATCATTCCTATGAATTCATTATCAGCGAATTGCCACC\n"
     ]
    }
   ],
   "source": [
    "# excercise 3\n",
    "# calculate the size of the two fragments produced when digested by EcoRI (G*AATTC)\n",
    "# make a temp sequence for ease\n",
    "dna_seq3 = \"TTGATCCGTTTTAGAACGTGGCAAGGTGAATTCAAGAATCATTCCTATGAATTCATTATCAGCGAATTGCCACC\"\n",
    "ecor1 = \"GAATTC\"\n",
    "\n",
    "# length of first fragment1\n",
    "frag1_length = dna_seq3.find(ecor1) + 1 # account for cut site\n",
    "frag2_length = len(dna_seq3) - frag1_length\n",
    "print(\"fragment 1 length: {}\".format(frag1_length))\n",
    "print(\"fragment 2 length: {}\".format(frag2_length))\n",
    "\n",
    "frag1_seq = dna_seq3[0:frag1_length]\n",
    "print(\"fragment1: {}\".format(frag1_seq))\n",
    "frag2_seq = dna_seq3[frag1_length:]\n",
    "print(\"fragment2: {}\".format(frag2_seq))\n"
   ]
  },
  {
   "cell_type": "code",
   "execution_count": null,
   "metadata": {},
   "outputs": [],
   "source": []
  }
 ],
 "metadata": {
  "kernelspec": {
   "display_name": "Python 3",
   "language": "python",
   "name": "python3"
  },
  "language_info": {
   "codemirror_mode": {
    "name": "ipython",
    "version": 3
   },
   "file_extension": ".py",
   "mimetype": "text/x-python",
   "name": "python",
   "nbconvert_exporter": "python",
   "pygments_lexer": "ipython3",
   "version": "3.6.6"
  }
 },
 "nbformat": 4,
 "nbformat_minor": 2
}
