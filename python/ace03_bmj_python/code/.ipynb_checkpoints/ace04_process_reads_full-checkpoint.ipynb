{
 "cells": [
  {
   "cell_type": "code",
   "execution_count": 5,
   "metadata": {},
   "outputs": [],
   "source": [
    "# import packages\n",
    "from Bio.SeqIO.QualityIO import FastqGeneralIterator"
   ]
  },
  {
   "cell_type": "code",
   "execution_count": 6,
   "metadata": {},
   "outputs": [],
   "source": [
    "read_pair1 = open(\"../data/c_burnetii_1k_R1.fastq\", \"r\")\n",
    "read_pair2 = open(\"../data/c_burnetii_1k_R2.fastq\", \"r\")\n",
    "\n",
    "filtered_read_pair1_out = open(\"../data/c_burnetii_1k_trim_R1.fastq\", \"w\")\n",
    "filtered_read_pair2_out = open(\"../data/c_burnetii_1k_trim_R2.fastq\", \"w\")"
   ]
  },
  {
   "cell_type": "code",
   "execution_count": 7,
   "metadata": {},
   "outputs": [],
   "source": [
    "# instantiate a fastq iterator using Biopython package\n",
    "f_iter1 = FastqGeneralIterator(read_pair1)\n",
    "f_iter2 = FastqGeneralIterator(read_pair2)"
   ]
  },
  {
   "cell_type": "code",
   "execution_count": 12,
   "metadata": {},
   "outputs": [],
   "source": [
    "# settings, constants\n",
    "LENGTH = 60\n",
    "QUAL = 35\n",
    "BARCODE_LENGTH = 0"
   ]
  },
  {
   "cell_type": "code",
   "execution_count": 13,
   "metadata": {},
   "outputs": [],
   "source": [
    "# iterate through reads, in lock step, quality trim\n",
    "for (title1, seq1, qual1), (title2, seq2, qual2) in zip(f_iter1, f_iter2): #zip does lock step interator\n",
    "    \n",
    "    # do not use reads with \"Ns\"\n",
    "    if \"N\" not in seq1 and \"N\" not in seq2:\n",
    "        \n",
    "        # set flag to zero\n",
    "        seq1_flag = 0\n",
    "        seq2_flag = 0\n",
    "        qual1_len = qual1[BARCODE_LENGTH:(LENGTH + BARCODE_LENGTH - 1)]\n",
    "        qual2_len = qual2[BARCODE_LENGTH:(LENGTH + BARCODE_LENGTH - 1)]\n",
    "        \n",
    "        # check if quality score meets cutoff for both reads\n",
    "        for i in qual1_len:\n",
    "            if ord(i)-33 < QUAL:\n",
    "                seq1_flag += 1\n",
    "                \n",
    "        for i in qual2_len:\n",
    "            if ord(i)-33 < QUAL:\n",
    "                seq2_flag += 1\n",
    "        \n",
    "        # only keep those reads that pass quality\n",
    "        if seq1_flag == 0 and seq2_flag == 0:\n",
    "            \n",
    "            filtered_read_pair1_out.write(\"@%s\\n%s\\n+\\n%s\\n\" % (title1, seq1[BARCODE_LENGTH:(LENGTH + BARCODE_LENGTH - 1)], qual1_len))\n",
    "            filtered_read_pair2_out.write(\"@%s\\n%s\\n+\\n%s\\n\" % (title2, seq2[BARCODE_LENGTH:(LENGTH + BARCODE_LENGTH - 1)], qual2_len))\n",
    "            \n",
    "# clean up\n",
    "filtered_read_pair1_out.close()\n",
    "filtered_read_pair2_out.close()\n",
    "read_pair1.close()\n",
    "read_pair2.close()\n",
    "            "
   ]
  }
 ],
 "metadata": {
  "kernelspec": {
   "display_name": "Python 3",
   "language": "python",
   "name": "python3"
  },
  "language_info": {
   "codemirror_mode": {
    "name": "ipython",
    "version": 3
   },
   "file_extension": ".py",
   "mimetype": "text/x-python",
   "name": "python",
   "nbconvert_exporter": "python",
   "pygments_lexer": "ipython3",
   "version": "3.6.5"
  }
 },
 "nbformat": 4,
 "nbformat_minor": 2
}
