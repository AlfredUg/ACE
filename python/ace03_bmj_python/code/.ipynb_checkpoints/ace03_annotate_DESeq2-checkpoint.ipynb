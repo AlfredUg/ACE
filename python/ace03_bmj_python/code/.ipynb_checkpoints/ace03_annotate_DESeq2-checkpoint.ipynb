{
 "cells": [
  {
   "cell_type": "code",
   "execution_count": 1,
   "metadata": {},
   "outputs": [],
   "source": [
    "# import modules\n",
    "import os\n",
    "from Bio import SeqIO\n",
    "from Bio import Entrez\n",
    "Entrez.email = \"brendan.jeffrey@nih.org\"  # Always tell NCBI who you are\n",
    "filename = \"b_burgdorferi_B31_genome.gbk\"\n",
    "if not os.path.isfile(filename):\n",
    "    # Downloading...\n",
    "    net_handle = Entrez.efetch(db=\"nucleotide\", id=\"AE000783.1\", rettype=\"gb\", retmode=\"text\")\n",
    "    out_handle = open(filename, \"w\")\n",
    "    out_handle.write(net_handle.read())\n",
    "    out_handle.close()\n",
    "    net_handle.close()\n",
    "    print(\"Genbank Saved\")"
   ]
  },
  {
   "cell_type": "code",
   "execution_count": 2,
   "metadata": {},
   "outputs": [],
   "source": [
    "# opening files\n",
    "in_genbank = \"./b_burgdorferi_B31_genome.gbk\"\n",
    "in_deseq_res = \"../data/sb01_ph68C_ph76C_diffs.txt\"\n",
    "out_anno_res = open(\"../data/sb01_ph68C_ph76C_diffs_anno.txt\", 'w')"
   ]
  },
  {
   "cell_type": "code",
   "execution_count": 1,
   "metadata": {},
   "outputs": [],
   "source": [
    "# write header for outfile\n",
    "out_anno_res.write(\"locus_tag\\tgene\\tproduct\\tbaseMean\\tlog2FoldChange\\tlfcSE\\tstat\\tpvalue\\tpadj\\n\")"
   ]
  },
  {
   "cell_type": "code",
   "execution_count": 2,
   "metadata": {},
   "outputs": [],
   "source": [
    "# extract gene names and gene products, populate dicts\n",
    "gene_dict = {}\n",
    "product_dict = {}\n",
    "\n",
    "# parse genbank file, populate dicts with gene names and products\n"
   ]
  },
  {
   "cell_type": "code",
   "execution_count": 3,
   "metadata": {},
   "outputs": [],
   "source": [
    "# add gene name and gene product to results\n"
   ]
  },
  {
   "cell_type": "code",
   "execution_count": null,
   "metadata": {},
   "outputs": [],
   "source": []
  }
 ],
 "metadata": {
  "kernelspec": {
   "display_name": "Python 3",
   "language": "python",
   "name": "python3"
  },
  "language_info": {
   "codemirror_mode": {
    "name": "ipython",
    "version": 3
   },
   "file_extension": ".py",
   "mimetype": "text/x-python",
   "name": "python",
   "nbconvert_exporter": "python",
   "pygments_lexer": "ipython3",
   "version": "3.6.6"
  }
 },
 "nbformat": 4,
 "nbformat_minor": 2
}
