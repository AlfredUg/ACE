{
 "cells": [
  {
   "cell_type": "markdown",
   "metadata": {},
   "source": [
    "## Jupyter Notebook\n",
    "\n",
    "- The Jupyter Notebook is an open-source web application that allows you to create and share documents that contain live code, equations, visualizations and narrative text.\n",
    "\n",
    "Jupyter Notebook https://jupyter-notebook.readthedocs.io/en/stable/\n",
    "\n",
    "- keyboard shortcuts\n",
    "    -  Help -> Keyboard Shortcuts\n",
    "- Will learn as we go along..."
   ]
  },
  {
   "cell_type": "markdown",
   "metadata": {},
   "source": [
    "## Printing and Manipulating Text"
   ]
  },
  {
   "cell_type": "code",
   "execution_count": 22,
   "metadata": {},
   "outputs": [
    {
     "name": "stdout",
     "output_type": "stream",
     "text": [
      "Hello World!\n"
     ]
    }
   ],
   "source": [
    "# print text to screen - use comments to annotate your code\n",
    "print(\"Hello World!\")"
   ]
  },
  {
   "cell_type": "code",
   "execution_count": 23,
   "metadata": {},
   "outputs": [
    {
     "data": {
      "text/plain": [
       "\u001b[0;31mDocstring:\u001b[0m\n",
       "print(value, ..., sep=' ', end='\\n', file=sys.stdout, flush=False)\n",
       "\n",
       "Prints the values to a stream, or to sys.stdout by default.\n",
       "Optional keyword arguments:\n",
       "file:  a file-like object (stream); defaults to the current sys.stdout.\n",
       "sep:   string inserted between values, default a space.\n",
       "end:   string appended after the last value, default a newline.\n",
       "flush: whether to forcibly flush the stream.\n",
       "\u001b[0;31mType:\u001b[0m      builtin_function_or_method\n"
      ]
     },
     "metadata": {},
     "output_type": "display_data"
    }
   ],
   "source": [
    "#print() - is the name of a function\n",
    "#  tells python interpreter what we want to do, in this case print something to the screen\n",
    "#  the bits inside parentheses are called the arguments, tells interpreter what we want to do more specifically\n",
    "\n",
    "# want to know more on print()?\n",
    "?print()"
   ]
  },
  {
   "cell_type": "code",
   "execution_count": 24,
   "metadata": {},
   "outputs": [
    {
     "name": "stdout",
     "output_type": "stream",
     "text": [
      "she said: 'Hello, World'\n",
      "He said: \"Hello, World\"\n"
     ]
    }
   ],
   "source": [
    "# quotes are important\n",
    "print(\"she said: 'Hello, World'\")\n",
    "print('He said: \"Hello, World\"')\n",
    "#print(\"They said: \"Hello, World\"\")"
   ]
  },
  {
   "cell_type": "code",
   "execution_count": 25,
   "metadata": {},
   "outputs": [
    {
     "ename": "SyntaxError",
     "evalue": "invalid syntax (<ipython-input-25-73432d429909>, line 2)",
     "output_type": "error",
     "traceback": [
      "\u001b[0;36m  File \u001b[0;32m\"<ipython-input-25-73432d429909>\"\u001b[0;36m, line \u001b[0;32m2\u001b[0m\n\u001b[0;31m    print(Hello World)\u001b[0m\n\u001b[0m                    ^\u001b[0m\n\u001b[0;31mSyntaxError\u001b[0m\u001b[0;31m:\u001b[0m invalid syntax\n"
     ]
    }
   ],
   "source": [
    "# error messages and debugging code\n",
    "print(Hello World)\n",
    "# shows: which line error occured\n",
    "# pythons best guess of where error occured\n",
    "# the type of error (in this case a syntax error - python can't understand code)\n",
    "\n",
    "#prin(\"Hello, World\")\n",
    "# different type of error, NameError."
   ]
  },
  {
   "cell_type": "code",
   "execution_count": 26,
   "metadata": {},
   "outputs": [
    {
     "name": "stdout",
     "output_type": "stream",
     "text": [
      "Hello\n",
      "World\n",
      "Hello\tWorld\n"
     ]
    }
   ],
   "source": [
    "# printing special characters\n",
    "print(\"Hello\\nWorld\") # prints newline character\n",
    "print(\"Hello\\tWorld\") # prints tab"
   ]
  },
  {
   "cell_type": "code",
   "execution_count": 6,
   "metadata": {},
   "outputs": [
    {
     "name": "stdout",
     "output_type": "stream",
     "text": [
      "8\n",
      "5 plus 3: 8\n",
      "5 minus 3: 2\n",
      "5 times 3: 15\n",
      "5 divided by 3: 1.6666666666666667\n",
      "5 divided by 3: 1.67\n",
      "remainder of 5 divided by 3: 2\n",
      "5 cubed: 125\n"
     ]
    }
   ],
   "source": [
    "# string print formatting\n",
    "print(5 + 3)\n",
    "print(\"5 plus 3: {}\".format(5 + 3))\n",
    "print(\"5 minus 3: {}\".format(5 - 3))\n",
    "print(\"5 times 3: {}\".format(5 * 3))\n",
    "print(\"5 divided by 3: {}\".format(5 / 3)) # returns a float\n",
    "print(\"5 divided by 3: {:.2f}\".format(5 / 3)) # returns a float, 2 decimal places\n",
    "print(\"remainder of 5 divided by 3: {}\".format(5 % 3))  # modulo, returns the remainder\n",
    "print(\"5 cubed: {}\".format(5**3))"
   ]
  },
  {
   "cell_type": "code",
   "execution_count": 29,
   "metadata": {},
   "outputs": [
    {
     "name": "stdout",
     "output_type": "stream",
     "text": [
      "27 divided by 3:  9.0\n",
      "5 less than 3: False\n",
      "27 is not greater than 3\n"
     ]
    }
   ],
   "source": [
    "# using variables\n",
    "x = 27\n",
    "y = 3\n",
    "\n",
    "# same math\n",
    "print(\"{} divided by {}:  {}\".format(x, y, x / y)) \n",
    "\n",
    "# booleans\n",
    "print(\"5 less than 3: {}\".format(5 < 3))\n",
    "\n",
    "# boolean in an if loop\n",
    "if x < y:\n",
    "    print(\"{} is greater than {}\".format(x, y))\n",
    "else:\n",
    "    print(\"{} is not greater than {}\".format(x, y))\n",
    "\n"
   ]
  },
  {
   "cell_type": "code",
   "execution_count": 33,
   "metadata": {
    "scrolled": true
   },
   "outputs": [
    {
     "name": "stdout",
     "output_type": "stream",
     "text": [
      "gagtggatgatgatgggcgctaggcgcgt\n",
      "the object 'my_dna' is of type: <class 'str'>\n",
      "gagtggatgatgatgggcgctaggcgcgt GAGTGGATGATGATGGGCGCTAGGCGCGT\n",
      "IS THIS LOWERCASE?\n",
      "['__add__', '__class__', '__contains__', '__delattr__', '__dir__', '__doc__', '__eq__', '__format__', '__ge__', '__getattribute__', '__getitem__', '__getnewargs__', '__gt__', '__hash__', '__init__', '__init_subclass__', '__iter__', '__le__', '__len__', '__lt__', '__mod__', '__mul__', '__ne__', '__new__', '__reduce__', '__reduce_ex__', '__repr__', '__rmod__', '__rmul__', '__setattr__', '__sizeof__', '__str__', '__subclasshook__', 'capitalize', 'casefold', 'center', 'count', 'encode', 'endswith', 'expandtabs', 'find', 'format', 'format_map', 'index', 'isalnum', 'isalpha', 'isdecimal', 'isdigit', 'isidentifier', 'islower', 'isnumeric', 'isprintable', 'isspace', 'istitle', 'isupper', 'join', 'ljust', 'lower', 'lstrip', 'maketrans', 'partition', 'replace', 'rfind', 'rindex', 'rjust', 'rpartition', 'rsplit', 'rstrip', 'split', 'splitlines', 'startswith', 'strip', 'swapcase', 'title', 'translate', 'upper', 'zfill']\n",
      "GAGTGGATGATGATGGGCGCTA\n",
      "GAGTGGATGATGATGGGCGCTAGGCGCGT\n"
     ]
    }
   ],
   "source": [
    "# storing strings in variables - show tab completion\n",
    "my_dna = \"gagtggatgatgatgggcgctaggcgcgt\"\n",
    "print(my_dna)\n",
    "\n",
    "print(\"the object 'my_dna' is of type: {}\".format(type(my_dna)))\n",
    "\n",
    "# everything in python is an object, often having functions available to them\n",
    "print(my_dna.lower(), my_dna.upper())\n",
    "\n",
    "\n",
    "# a string can be directly acted on\n",
    "print(\"is this lowercase?\".upper())\n",
    "\n",
    "# what methods are available to an object? tab and dir\n",
    "#print(dir(my_dna))\n",
    "\n",
    "# can chain methods - dont go overboard!!\n",
    "print(my_dna.rstrip(\"gcgcgt\").upper()) \n",
    "print(my_dna.upper().rstrip(\"gcgcgt\")) # why doesnt this work?\n",
    "\n"
   ]
  },
  {
   "cell_type": "markdown",
   "metadata": {},
   "source": [
    "Quick aside - naming conventions\n",
    "https://www.python.org/dev/peps/pep-0008/"
   ]
  },
  {
   "cell_type": "code",
   "execution_count": 9,
   "metadata": {},
   "outputs": [],
   "source": [
    "# example\n",
    "HomeTown = \"Denver\" # no for variables\n",
    "home_town = \"Denver\"  # yes"
   ]
  },
  {
   "cell_type": "code",
   "execution_count": 21,
   "metadata": {},
   "outputs": [
    {
     "name": "stdout",
     "output_type": "stream",
     "text": [
      "GAGTGGATGATGATGGGCGCTAGGCGCGT\n",
      "upstream concatenated my_dna: atgGAGTGGATGATGATGGGCGCTAGGCGCGT\n",
      "new dna sequence: atgGAGTGGATGATGATGGGCGCTAGGCGCGT\n",
      "full sequence: atgGAGTGGATGATGATGGGCGCTAGGCGCGTtag\n",
      "new dna sequence is: atgGAGTGGATGATGATGGGCGCTAGGCGCGTtag\n"
     ]
    }
   ],
   "source": [
    "# manipulating strings - joining\n",
    "# make upper\n",
    "my_dna = my_dna.upper()\n",
    "print(my_dna)\n",
    "\n",
    "# joining strings\n",
    "upstream = \"atg\"\n",
    "print(\"upstream concatenated my_dna: {}\".format(upstream + my_dna))\n",
    "\n",
    "# store in variable\n",
    "new_dna = upstream + my_dna\n",
    "print(\"new dna sequence: {}\".format(new_dna))\n",
    "\n",
    "# concatenate multiple\n",
    "downstream = \"tag\"\n",
    "full_dna = upstream + my_dna + downstream\n",
    "print(\"full sequence: {}\".format(full_dna))\n",
    "\n",
    "# can join strings in print statement\n",
    "print(\"new dna sequence is:\" + \" \" + full_dna)\n"
   ]
  },
  {
   "cell_type": "code",
   "execution_count": 35,
   "metadata": {},
   "outputs": [
    {
     "name": "stdout",
     "output_type": "stream",
     "text": [
      "length of DNA seq is: 29\n",
      "length of DNA seq is: 29\n"
     ]
    }
   ],
   "source": [
    "# finding length of a string using len() function\n",
    "# store length of my_dna\n",
    "dna_length = len(my_dna)\n",
    "\n",
    "# want to know more on len()\n",
    "#?len()\n",
    "\n",
    "# print DNA length message - GOOGLE error message\n",
    "#print(\"length of DNA seq is: \" + dna_length)\n",
    "\n",
    "# joining ints and strings\n",
    "print(\"length of DNA seq is: \" + str(dna_length))\n",
    "\n",
    "# or...\n",
    "print(\"length of DNA seq is: {}\".format(dna_length))\n"
   ]
  },
  {
   "cell_type": "code",
   "execution_count": 37,
   "metadata": {},
   "outputs": [
    {
     "name": "stdout",
     "output_type": "stream",
     "text": [
      "padvlsp\n",
      "yadvlsy\n",
      "XYZvlsp\n",
      "padvlsp\n"
     ]
    }
   ],
   "source": [
    "# manipulating strings - replacement\n",
    "\n",
    "protein = \"padvlsp\"\n",
    "print(protein)\n",
    "\n",
    "# replace valine with tyrosine\n",
    "print(protein.replace(\"p\", \"y\"))\n",
    "\n",
    "# can replace more than one character - need to be next to each other\n",
    "print(protein.replace(\"pad\", \"XYZ\"))\n",
    "\n",
    "# original 'protein' ore variable is not changed\n",
    "print(protein)\n"
   ]
  },
  {
   "cell_type": "code",
   "execution_count": 63,
   "metadata": {},
   "outputs": [
    {
     "name": "stdout",
     "output_type": "stream",
     "text": [
      "ad\n",
      "pad\n",
      "vlsp\n",
      "vlsp\n"
     ]
    }
   ],
   "source": [
    "# manipulating strings - extracting part of a string - indexing/slicing\n",
    "# print first three \n",
    "print(protein[1:3])\n",
    "\n",
    "# positions start at zero, not one\n",
    "# positions are inclusive at the start, and exclusive at the stop\n",
    "print(protein[0:3]) # includes the first character and ends before the 4th character\n",
    "\n",
    "# print last four\n",
    "print(protein[3:]) # not the best\n",
    "print(protein[-4:]) # minus sign signals to start from the end\n",
    "\n"
   ]
  },
  {
   "cell_type": "code",
   "execution_count": 38,
   "metadata": {},
   "outputs": [
    {
     "name": "stdout",
     "output_type": "stream",
     "text": [
      "['__add__', '__class__', '__contains__', '__delattr__', '__dir__', '__doc__', '__eq__', '__format__', '__ge__', '__getattribute__', '__getitem__', '__getnewargs__', '__gt__', '__hash__', '__init__', '__init_subclass__', '__iter__', '__le__', '__len__', '__lt__', '__mod__', '__mul__', '__ne__', '__new__', '__reduce__', '__reduce_ex__', '__repr__', '__rmod__', '__rmul__', '__setattr__', '__sizeof__', '__str__', '__subclasshook__', 'capitalize', 'casefold', 'center', 'count', 'encode', 'endswith', 'expandtabs', 'find', 'format', 'format_map', 'index', 'isalnum', 'isalpha', 'isdecimal', 'isdigit', 'isidentifier', 'islower', 'isnumeric', 'isprintable', 'isspace', 'istitle', 'isupper', 'join', 'ljust', 'lower', 'lstrip', 'maketrans', 'partition', 'replace', 'rfind', 'rindex', 'rjust', 'rpartition', 'rsplit', 'rstrip', 'split', 'splitlines', 'startswith', 'strip', 'swapcase', 'title', 'translate', 'upper', 'zfill']\n",
      "2\n",
      "prolines: 2\n",
      "dvl motifs: 1\n"
     ]
    }
   ],
   "source": [
    "# finding and counting substrings\n",
    "# count number of prolines\n",
    "print(dir(protein))\n",
    "print(protein.count(\"p\"))\n",
    "\n",
    "# store counts\n",
    "proline_count = protein.count(\"p\")\n",
    "dvl_count = protein.count(\"dvl\")\n",
    "\n",
    "# print counts\n",
    "print(\"prolines: \" + str(proline_count))\n",
    "print(\"dvl motifs: {}\".format(dvl_count))"
   ]
  },
  {
   "cell_type": "code",
   "execution_count": 39,
   "metadata": {},
   "outputs": [
    {
     "name": "stdout",
     "output_type": "stream",
     "text": [
      "0\n",
      "3\n",
      "-1\n"
     ]
    }
   ],
   "source": [
    "# finding location of substring within a string\n",
    "#print(dir(protein))\n",
    "print(protein.find(\"p\")) # will find the first occurence\n",
    "print(protein.find(\"vls\"))\n",
    "print(protein.find(\"fvl\")) # -1 indicates not found\n"
   ]
  },
  {
   "cell_type": "code",
   "execution_count": null,
   "metadata": {},
   "outputs": [],
   "source": []
  },
  {
   "cell_type": "markdown",
   "metadata": {},
   "source": [
    "### short intro to files"
   ]
  },
  {
   "cell_type": "code",
   "execution_count": null,
   "metadata": {},
   "outputs": [],
   "source": [
    "# open a file\n",
    "f = open(\"./data/cities.txt\")\n",
    "\n",
    "# read contents of a file\n",
    "file_contents = f.read()\n",
    "\n",
    "# must close\n",
    "f.close()\n",
    "\n",
    "# print contents of file\n",
    "print(file_contents)\n"
   ]
  },
  {
   "cell_type": "code",
   "execution_count": null,
   "metadata": {},
   "outputs": [],
   "source": [
    "# write contents out to new file\n",
    "# open a new file to write to\n",
    "out_file = open(\"./data/cities_out.txt\", \"w\")\n",
    "out_file.write(\"{}\".format(file_contents.replace(\"o\",\"oi\")))\n",
    "out_file.close()"
   ]
  },
  {
   "cell_type": "markdown",
   "metadata": {},
   "source": [
    "### lists, loops, and dictionaries"
   ]
  },
  {
   "cell_type": "code",
   "execution_count": 41,
   "metadata": {},
   "outputs": [
    {
     "name": "stdout",
     "output_type": "stream",
     "text": [
      "portland\n",
      "['portland', 'memphis']\n",
      "[1, 4, 9, 16, 25, 36, 49]\n"
     ]
    }
   ],
   "source": [
    "# lists are most versatile data type in python, written as a list of comma separated values\n",
    "# square bracket\n",
    "cities = [\"houston\", \"portland\", \"memphis\"]\n",
    "\n",
    "# items in list can be accessed by index\n",
    "print(cities[1])\n",
    "print(cities[1:])\n",
    "\n",
    "# can loop through lists\n",
    "numbers = [1,2,3,4,5,6,7]\n",
    "numbers_squared = []\n",
    "for i in numbers:\n",
    "    #print(i, i**2)\n",
    "    numbers_squared.append(i**2)\n",
    "    \n",
    "print(numbers_squared)"
   ]
  },
  {
   "cell_type": "code",
   "execution_count": null,
   "metadata": {},
   "outputs": [],
   "source": [
    "# read in file of locus tags with gene products, populate dictionary\n",
    "gene_dict = {}\n",
    "with open(\"./gene_names.txt\") as f:\n",
    "    for line in f:\n",
    "        line = line.rstrip(\"\\n\")\n",
    "        gene_id, gene_name = line.split(\"\\t\")\n",
    "        gene_dict[gene_id] = gene_name\n",
    "        \n",
    "gene_dict"
   ]
  },
  {
   "cell_type": "code",
   "execution_count": null,
   "metadata": {},
   "outputs": [],
   "source": [
    "# access values in dictionary using keys\n",
    "print(\"ENSMUSG00000063524 locus_tag is: {}\".format(gene_dict[\"ENSMUSG00000063524\"]))"
   ]
  }
 ],
 "metadata": {
  "kernelspec": {
   "display_name": "Python 3",
   "language": "python",
   "name": "python3"
  },
  "language_info": {
   "codemirror_mode": {
    "name": "ipython",
    "version": 3
   },
   "file_extension": ".py",
   "mimetype": "text/x-python",
   "name": "python",
   "nbconvert_exporter": "python",
   "pygments_lexer": "ipython3",
   "version": "3.6.5"
  }
 },
 "nbformat": 4,
 "nbformat_minor": 2
}
