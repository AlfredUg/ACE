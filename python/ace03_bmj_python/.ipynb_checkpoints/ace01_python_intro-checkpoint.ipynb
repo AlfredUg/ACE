{
 "cells": [
  {
   "cell_type": "markdown",
   "metadata": {},
   "source": [
    "## Jupyter Notebook\n",
    "\n",
    "- The Jupyter Notebook is an open-source web application that allows you to create and share documents that contain live code, equations, visualizations and narrative text.\n",
    "\n",
    "Jupyter Notebook https://jupyter-notebook.readthedocs.io/en/stable/\n",
    "\n",
    "- keyboard shortcuts\n",
    "    -  Help -> Keyboard Shortcuts\n",
    "- Will learn as we go along..."
   ]
  },
  {
   "cell_type": "markdown",
   "metadata": {},
   "source": [
    "## Printing and Manipulating Text"
   ]
  },
  {
   "cell_type": "code",
   "execution_count": 1,
   "metadata": {},
   "outputs": [],
   "source": [
    "# print text to screen - use comments to annotate your code\n"
   ]
  },
  {
   "cell_type": "code",
   "execution_count": 2,
   "metadata": {},
   "outputs": [],
   "source": [
    "#print() - is the name of a function\n",
    "#  tells python interpreter what we want to do, in this case print something to the screen\n",
    "#  the bits inside parentheses are called the arguments, tells interpreter what we want to do more specifically\n",
    "\n",
    "# want to know more on print()?\n",
    "#?print()"
   ]
  },
  {
   "cell_type": "code",
   "execution_count": 3,
   "metadata": {},
   "outputs": [],
   "source": [
    "# quotes are important\n"
   ]
  },
  {
   "cell_type": "code",
   "execution_count": 25,
   "metadata": {},
   "outputs": [
    {
     "ename": "SyntaxError",
     "evalue": "invalid syntax (<ipython-input-25-73432d429909>, line 2)",
     "output_type": "error",
     "traceback": [
      "\u001b[0;36m  File \u001b[0;32m\"<ipython-input-25-73432d429909>\"\u001b[0;36m, line \u001b[0;32m2\u001b[0m\n\u001b[0;31m    print(Hello World)\u001b[0m\n\u001b[0m                    ^\u001b[0m\n\u001b[0;31mSyntaxError\u001b[0m\u001b[0;31m:\u001b[0m invalid syntax\n"
     ]
    }
   ],
   "source": [
    "# error messages and debugging code\n",
    "print(Hello World)\n",
    "# shows: which line error occured\n",
    "# pythons best guess of where error occured\n",
    "# the type of error (in this case a syntax error - python can't understand code)\n",
    "\n",
    "#prin(\"Hello, World\")\n",
    "# different type of error, NameError."
   ]
  },
  {
   "cell_type": "code",
   "execution_count": 19,
   "metadata": {},
   "outputs": [],
   "source": [
    "# printing special characters\n"
   ]
  },
  {
   "cell_type": "code",
   "execution_count": 20,
   "metadata": {},
   "outputs": [],
   "source": [
    "# string print formatting\n"
   ]
  },
  {
   "cell_type": "code",
   "execution_count": 21,
   "metadata": {},
   "outputs": [],
   "source": [
    "# using variables\n",
    "\n",
    "# some math\n",
    "\n",
    "# booleans\n",
    "\n",
    "# boolean in an if loop\n"
   ]
  },
  {
   "cell_type": "code",
   "execution_count": 6,
   "metadata": {
    "scrolled": true
   },
   "outputs": [],
   "source": [
    "# storing strings in variables - show tab completion\n",
    "my_dna = \"gagtggatgatgatgggcgctaggcgcgt\"\n",
    "\n",
    "# show what type of object\n",
    "\n",
    "# everything in python is an object, often having functions available to them\n",
    "\n",
    "# a string can be directly acted on\n",
    "\n",
    "# what methods are available to an object? tab and dir\n",
    "\n",
    "# can chain methods - dont go overboard!!\n",
    "\n"
   ]
  },
  {
   "cell_type": "markdown",
   "metadata": {},
   "source": [
    "Quick aside - naming conventions\n",
    "https://www.python.org/dev/peps/pep-0008/"
   ]
  },
  {
   "cell_type": "code",
   "execution_count": 9,
   "metadata": {},
   "outputs": [],
   "source": [
    "# example\n",
    "HomeTown = \"Denver\" # no for variables\n",
    "home_town = \"Denver\"  # yes"
   ]
  },
  {
   "cell_type": "code",
   "execution_count": 7,
   "metadata": {},
   "outputs": [],
   "source": [
    "# manipulating strings - joining\n",
    "# make upper\n",
    "my_dna = \"gagtggatgatgatgggcgctaggcgcgt\"\n",
    "\n",
    "# joining strings\n",
    "\n",
    "# store in variable\n",
    "\n",
    "# concatenate multiple\n",
    "\n",
    "# can join strings in print statement\n"
   ]
  },
  {
   "cell_type": "code",
   "execution_count": 8,
   "metadata": {},
   "outputs": [],
   "source": [
    "# finding length of a string using len() function\n",
    "# store length of my_dna\n",
    "\n",
    "# want to know more on len()\n",
    "#?len()\n",
    "\n",
    "# joining ints and strings\n",
    "\n",
    "\n",
    "# or...\n",
    "\n"
   ]
  },
  {
   "cell_type": "code",
   "execution_count": 9,
   "metadata": {},
   "outputs": [],
   "source": [
    "# manipulating strings - replacement\n",
    "\n",
    "protein = \"padvlsp\"\n",
    "\n",
    "\n",
    "# replace valine with tyrosine\n",
    "\n",
    "\n",
    "# can replace more than one character - need to be next to each other\n",
    "\n",
    "\n",
    "# original 'protein' ore variable is not changed\n",
    "\n"
   ]
  },
  {
   "cell_type": "code",
   "execution_count": 10,
   "metadata": {},
   "outputs": [],
   "source": [
    "# manipulating strings - extracting part of a string - indexing/slicing\n",
    "# print first three \n",
    "\n",
    "\n",
    "# positions start at zero, not one\n",
    "# positions are inclusive at the start, and exclusive at the stop\n",
    "# includes the first character and ends before the 4th character\n",
    "\n",
    "# print last four\n",
    " # not the best\n",
    " # minus sign signals to start from the end\n",
    "\n"
   ]
  },
  {
   "cell_type": "code",
   "execution_count": 13,
   "metadata": {},
   "outputs": [],
   "source": [
    "# finding and counting substrings\n",
    "# count number of prolines\n",
    "\n",
    "\n",
    "# store counts\n",
    "\n",
    "\n",
    "# print counts\n"
   ]
  },
  {
   "cell_type": "code",
   "execution_count": 15,
   "metadata": {},
   "outputs": [],
   "source": [
    "# finding location of substring within a string\n",
    "#print(dir(protein))\n",
    " # will find the first occurence\n",
    "\n",
    " # -1 indicates not found\n"
   ]
  },
  {
   "cell_type": "markdown",
   "metadata": {},
   "source": [
    "### short intro to files"
   ]
  },
  {
   "cell_type": "code",
   "execution_count": 16,
   "metadata": {},
   "outputs": [],
   "source": [
    "# open a file\n",
    "\n",
    "\n",
    "# read contents of a file\n",
    "\n",
    "\n",
    "# must close\n",
    "\n",
    "\n",
    "# print contents of file\n",
    "\n"
   ]
  },
  {
   "cell_type": "code",
   "execution_count": 17,
   "metadata": {},
   "outputs": [],
   "source": [
    "# write contents out to new file\n",
    "# open a new file to write to\n",
    "\n"
   ]
  },
  {
   "cell_type": "markdown",
   "metadata": {},
   "source": [
    "### lists, loops, and dictionaries"
   ]
  },
  {
   "cell_type": "code",
   "execution_count": 18,
   "metadata": {},
   "outputs": [],
   "source": [
    "# lists are most versatile data type in python, written as a list of comma separated values\n",
    "# square bracket\n",
    "cities = [\"houston\", \"portland\", \"memphis\"]\n",
    "\n",
    "# items in list can be accessed by index\n",
    "\n",
    "\n",
    "# can loop through lists\n"
   ]
  },
  {
   "cell_type": "code",
   "execution_count": null,
   "metadata": {},
   "outputs": [],
   "source": [
    "# read in file of locus tags with gene products, populate dictionary\n"
   ]
  },
  {
   "cell_type": "code",
   "execution_count": null,
   "metadata": {},
   "outputs": [],
   "source": [
    "# access values in dictionary using keys\n",
    "print(\"ENSMUSG00000063524 locus_tag is: {}\".format(gene_dict[\"ENSMUSG00000063524\"]))"
   ]
  }
 ],
 "metadata": {
  "kernelspec": {
   "display_name": "Python 3",
   "language": "python",
   "name": "python3"
  },
  "language_info": {
   "codemirror_mode": {
    "name": "ipython",
    "version": 3
   },
   "file_extension": ".py",
   "mimetype": "text/x-python",
   "name": "python",
   "nbconvert_exporter": "python",
   "pygments_lexer": "ipython3",
   "version": "3.6.5"
  }
 },
 "nbformat": 4,
 "nbformat_minor": 2
}
