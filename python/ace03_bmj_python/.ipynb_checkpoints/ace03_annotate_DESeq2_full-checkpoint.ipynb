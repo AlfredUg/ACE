{
 "cells": [
  {
   "cell_type": "code",
   "execution_count": 1,
   "metadata": {},
   "outputs": [],
   "source": [
    "# import Biopython SeqIO package\n",
    "from Bio import SeqIO"
   ]
  },
  {
   "cell_type": "code",
   "execution_count": 2,
   "metadata": {},
   "outputs": [],
   "source": [
    "# opening files\n",
    "in_genbank = \"../data/b_burgdoreferi_B31_genome.gbk\"\n",
    "in_deseq_res = \"../data/sb01_ph68C_ph76C_diffs.txt\"\n",
    "out_anno_res = open(\"../data/sb01_ph68C_ph76C_diffs_anno.txt\", 'w')"
   ]
  },
  {
   "cell_type": "code",
   "execution_count": null,
   "metadata": {},
   "outputs": [],
   "source": [
    "# write header for outfile\n",
    "out_anno_res.write(\"locus_tag\\tgene\\tproduct\\tbaseMean\\tlog2FoldChange\\tlfcSE\\tstat\\tpvalue\\tpadj\\n\")"
   ]
  },
  {
   "cell_type": "code",
   "execution_count": null,
   "metadata": {},
   "outputs": [],
   "source": [
    "# extract gene names and gene products, populate dicts\n",
    "gene_dict = {}\n",
    "product_dict = {}\n",
    "\n",
    "# parse genbank file, populate dicts with gene names and products\n",
    "with open(in_genbank):\n",
    "    full_record = SeqIO.parse(in_genbank, \"genbank\")\n",
    "    for record in full_record:\n",
    "        # investigate record object, tab autocompletion\n",
    "        #print(record)\n",
    "        #print(record.description)\n",
    "        \n",
    "        # loop though each feature  of each record\n",
    "        for feature in record.features:\n",
    "            # investigate feature object\n",
    "            #print(feature)\n",
    "            \n",
    "            # only look at coding sequences\n",
    "            if \"CDS\" in feature.type:\n",
    "                # extract locus_tags , products\n",
    "                locus_tag = feature.qualifiers.get('locus_tag')[0]\n",
    "                product = feature.qualifiers.get('product')[0]\n",
    "                \n",
    "                # extract protein sequence for specific gene\n",
    "                if locus_tag == \"BB_0002\":\n",
    "                    print(feature)\n",
    "                    \n",
    "                    # grab coordinates\n",
    "                    start = feature.location.start\n",
    "                    end = feature.location.end\n",
    "                    \n",
    "                    # extract nucleotides\n",
    "                    BB_0002_nt = record.seq[start:end]\n",
    "                    \n",
    "                    # translate\n",
    "                    #print(BB_0002_nt.translate())\n",
    "                    #print(BB_0002_nt.reverse_complement())\n",
    "                    #print(BB_0002_nt.reverse_complement().translate())\n",
    "                    \n",
    "                    # methods for extraction\n",
    "                    BB_0002_nt = feature.extract(record).seq\n",
    "                    BB_0002_aa = feature.qualifiers.get('translation')[0]\n",
    "                    \n",
    "                    print(\">{}_nucleotide\\n{}\\n\".format(locus_tag, BB_0002_nt))\n",
    "                    print(\">{}_amino_acid\\n{}\\n\".format(locus_tag, BB_0002_aa))\n",
    "                    \n",
    "                \n",
    "                # populate dictionaries\n",
    "                if feature.qualifiers.get('gene'):\n",
    "                    gene = feature.qualifiers.get('gene')[0]\n",
    "                else:\n",
    "                    gene = \"NA\"\n",
    "                product_dict[locus_tag] = product\n",
    "                gene_dict[locus_tag] = gene"
   ]
  },
  {
   "cell_type": "code",
   "execution_count": 5,
   "metadata": {},
   "outputs": [],
   "source": [
    "# add gene name and gene product to results\n",
    "with open(in_deseq_res) as f:\n",
    "    # skip the header\n",
    "    next(f)\n",
    "    for line in f:\n",
    "        line = line.rstrip(\"\\n\")\n",
    "        locus_tag, baseMean, log2FoldChange, lfcSE, stat, pvalue, padj = line.split(\"\\t\")\n",
    "        if locus_tag in product_dict.keys():\n",
    "            out_anno_res.write(\"{0}\\t{1}\\t{2}\\t{3}\\t{4}\\t{5}\\t{6}\\t{7}\\t{8}\\n\".format(locus_tag, gene_dict[locus_tag], product_dict[locus_tag], baseMean, log2FoldChange, lfcSE, stat, pvalue, padj))\n",
    "        else:\n",
    "            out_anno_res.write(\"{0}\\tNA\\tNA\\t{1}\\t{2}\\t{3}\\t{4}\\t{5}\\t{6}\\n\".format(locus_tag, baseMean, log2FoldChange, lfcSE, stat, pvalue, padj))\n",
    "\n",
    "out_anno_res.close()"
   ]
  },
  {
   "cell_type": "code",
   "execution_count": null,
   "metadata": {},
   "outputs": [],
   "source": []
  }
 ],
 "metadata": {
  "kernelspec": {
   "display_name": "Python 3",
   "language": "python",
   "name": "python3"
  },
  "language_info": {
   "codemirror_mode": {
    "name": "ipython",
    "version": 3
   },
   "file_extension": ".py",
   "mimetype": "text/x-python",
   "name": "python",
   "nbconvert_exporter": "python",
   "pygments_lexer": "ipython3",
   "version": "3.6.5"
  }
 },
 "nbformat": 4,
 "nbformat_minor": 2
}
