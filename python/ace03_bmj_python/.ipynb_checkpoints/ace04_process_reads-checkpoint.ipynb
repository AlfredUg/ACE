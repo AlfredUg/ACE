{
 "cells": [
  {
   "cell_type": "code",
   "execution_count": 5,
   "metadata": {},
   "outputs": [],
   "source": [
    "# import packages\n",
    "from Bio.SeqIO.QualityIO import FastqGeneralIterator"
   ]
  },
  {
   "cell_type": "code",
   "execution_count": 6,
   "metadata": {},
   "outputs": [],
   "source": [
    "read_pair1 = open(\"../data/c_burnetii_1k_R1.fastq\", \"r\")\n",
    "read_pair2 = open(\"../data/c_burnetii_1k_R2.fastq\", \"r\")\n",
    "\n",
    "filtered_read_pair1_out = open(\"../data/c_burnetii_1k_trim_R1.fastq\", \"w\")\n",
    "filtered_read_pair2_out = open(\"../data/c_burnetii_1k_trim_R2.fastq\", \"w\")"
   ]
  },
  {
   "cell_type": "code",
   "execution_count": 7,
   "metadata": {},
   "outputs": [],
   "source": [
    "# instantiate a fastq iterator using Biopython package\n",
    "f_iter1 = FastqGeneralIterator(read_pair1)\n",
    "f_iter2 = FastqGeneralIterator(read_pair2)"
   ]
  },
  {
   "cell_type": "code",
   "execution_count": 12,
   "metadata": {},
   "outputs": [],
   "source": [
    "# settings, constants\n",
    "LENGTH = 60\n",
    "QUAL = 35\n",
    "BARCODE_LENGTH = 0"
   ]
  },
  {
   "cell_type": "code",
   "execution_count": 13,
   "metadata": {},
   "outputs": [],
   "source": [
    "# iterate through reads, in lock step, quality trim\n",
    "\n",
    "\n",
    "# clean up\n",
    "\n",
    "            "
   ]
  }
 ],
 "metadata": {
  "kernelspec": {
   "display_name": "Python 3",
   "language": "python",
   "name": "python3"
  },
  "language_info": {
   "codemirror_mode": {
    "name": "ipython",
    "version": 3
   },
   "file_extension": ".py",
   "mimetype": "text/x-python",
   "name": "python",
   "nbconvert_exporter": "python",
   "pygments_lexer": "ipython3",
   "version": "3.6.5"
  }
 },
 "nbformat": 4,
 "nbformat_minor": 2
}
